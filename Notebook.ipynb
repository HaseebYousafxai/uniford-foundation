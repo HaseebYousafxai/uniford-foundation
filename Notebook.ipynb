{
 "cells": [
  {
   "cell_type": "code",
   "execution_count": 1,
   "metadata": {},
   "outputs": [],
   "source": [
    "import warnings\n",
    "warnings.filterwarnings(\"ignore\")"
   ]
  },
  {
   "cell_type": "markdown",
   "metadata": {},
   "source": [
    "# **0.0 Import Libraries**"
   ]
  },
  {
   "cell_type": "code",
   "execution_count": 2,
   "metadata": {},
   "outputs": [],
   "source": [
    "import pandas as pd\n",
    "import numpy as np\n",
    "import matplotlib.pyplot as plt\n",
    "import seaborn as sns"
   ]
  },
  {
   "cell_type": "markdown",
   "metadata": {},
   "source": [
    "# **1.0 Load Data**"
   ]
  },
  {
   "cell_type": "code",
   "execution_count": 3,
   "metadata": {},
   "outputs": [
    {
     "name": "stdout",
     "output_type": "stream",
     "text": [
      "<class 'pandas.core.frame.DataFrame'>\n",
      "RangeIndex: 77 entries, 0 to 76\n",
      "Data columns (total 8 columns):\n",
      " #   Column                Non-Null Count  Dtype  \n",
      "---  ------                --------------  -----  \n",
      " 0   University Name       77 non-null     object \n",
      " 1   Location              77 non-null     object \n",
      " 2   Type                  77 non-null     object \n",
      " 3   Graduates per year    77 non-null     int64  \n",
      " 4   Rank in pakistan      77 non-null     int64  \n",
      " 5   Rank in World         77 non-null     int64  \n",
      " 6   Satisfaction          77 non-null     float64\n",
      " 7   Job Placement rating  77 non-null     float64\n",
      "dtypes: float64(2), int64(3), object(3)\n",
      "memory usage: 4.9+ KB\n"
     ]
    }
   ],
   "source": [
    "df = pd.read_excel(\"University data CS.xlsx\")\n",
    "df.info()"
   ]
  },
  {
   "cell_type": "markdown",
   "metadata": {},
   "source": [
    "# **2.0 Data Cleaning**"
   ]
  },
  {
   "cell_type": "code",
   "execution_count": 4,
   "metadata": {},
   "outputs": [
    {
     "data": {
      "text/plain": [
       "University Name         0\n",
       "Location                0\n",
       "Type                    0\n",
       "Graduates per year      0\n",
       "Rank in pakistan        0\n",
       "Rank in World           0\n",
       "Satisfaction            0\n",
       "Job Placement rating    0\n",
       "dtype: int64"
      ]
     },
     "execution_count": 4,
     "metadata": {},
     "output_type": "execute_result"
    }
   ],
   "source": [
    "df.isnull().sum().sort_values(ascending=False)"
   ]
  },
  {
   "cell_type": "code",
   "execution_count": 5,
   "metadata": {},
   "outputs": [
    {
     "data": {
      "text/plain": [
       "False"
      ]
     },
     "execution_count": 5,
     "metadata": {},
     "output_type": "execute_result"
    }
   ],
   "source": [
    "df.duplicated().any()"
   ]
  },
  {
   "cell_type": "markdown",
   "metadata": {},
   "source": [
    "# **3.0 Descriptive Statistics**"
   ]
  },
  {
   "cell_type": "code",
   "execution_count": 6,
   "metadata": {},
   "outputs": [
    {
     "data": {
      "text/html": [
       "<div>\n",
       "<style scoped>\n",
       "    .dataframe tbody tr th:only-of-type {\n",
       "        vertical-align: middle;\n",
       "    }\n",
       "\n",
       "    .dataframe tbody tr th {\n",
       "        vertical-align: top;\n",
       "    }\n",
       "\n",
       "    .dataframe thead th {\n",
       "        text-align: right;\n",
       "    }\n",
       "</style>\n",
       "<table border=\"1\" class=\"dataframe\">\n",
       "  <thead>\n",
       "    <tr style=\"text-align: right;\">\n",
       "      <th></th>\n",
       "      <th>Graduates per year</th>\n",
       "      <th>Rank in pakistan</th>\n",
       "      <th>Rank in World</th>\n",
       "      <th>Satisfaction</th>\n",
       "      <th>Job Placement rating</th>\n",
       "    </tr>\n",
       "  </thead>\n",
       "  <tbody>\n",
       "    <tr>\n",
       "      <th>count</th>\n",
       "      <td>77.000000</td>\n",
       "      <td>77.000000</td>\n",
       "      <td>77.000000</td>\n",
       "      <td>77.000000</td>\n",
       "      <td>77.000000</td>\n",
       "    </tr>\n",
       "    <tr>\n",
       "      <th>mean</th>\n",
       "      <td>3080.610390</td>\n",
       "      <td>39.000000</td>\n",
       "      <td>3393.064935</td>\n",
       "      <td>4.118182</td>\n",
       "      <td>3.822078</td>\n",
       "    </tr>\n",
       "    <tr>\n",
       "      <th>std</th>\n",
       "      <td>6474.227879</td>\n",
       "      <td>22.371857</td>\n",
       "      <td>1148.039099</td>\n",
       "      <td>0.418244</td>\n",
       "      <td>0.744387</td>\n",
       "    </tr>\n",
       "    <tr>\n",
       "      <th>min</th>\n",
       "      <td>129.000000</td>\n",
       "      <td>1.000000</td>\n",
       "      <td>687.000000</td>\n",
       "      <td>3.000000</td>\n",
       "      <td>2.000000</td>\n",
       "    </tr>\n",
       "    <tr>\n",
       "      <th>25%</th>\n",
       "      <td>480.000000</td>\n",
       "      <td>20.000000</td>\n",
       "      <td>2485.000000</td>\n",
       "      <td>3.900000</td>\n",
       "      <td>3.400000</td>\n",
       "    </tr>\n",
       "    <tr>\n",
       "      <th>50%</th>\n",
       "      <td>987.000000</td>\n",
       "      <td>39.000000</td>\n",
       "      <td>3580.000000</td>\n",
       "      <td>4.200000</td>\n",
       "      <td>4.000000</td>\n",
       "    </tr>\n",
       "    <tr>\n",
       "      <th>75%</th>\n",
       "      <td>1842.000000</td>\n",
       "      <td>58.000000</td>\n",
       "      <td>4283.000000</td>\n",
       "      <td>4.400000</td>\n",
       "      <td>4.400000</td>\n",
       "    </tr>\n",
       "    <tr>\n",
       "      <th>max</th>\n",
       "      <td>38262.000000</td>\n",
       "      <td>77.000000</td>\n",
       "      <td>5775.000000</td>\n",
       "      <td>4.800000</td>\n",
       "      <td>5.000000</td>\n",
       "    </tr>\n",
       "  </tbody>\n",
       "</table>\n",
       "</div>"
      ],
      "text/plain": [
       "       Graduates per year  Rank in pakistan  Rank in World  Satisfaction  \\\n",
       "count           77.000000         77.000000      77.000000     77.000000   \n",
       "mean          3080.610390         39.000000    3393.064935      4.118182   \n",
       "std           6474.227879         22.371857    1148.039099      0.418244   \n",
       "min            129.000000          1.000000     687.000000      3.000000   \n",
       "25%            480.000000         20.000000    2485.000000      3.900000   \n",
       "50%            987.000000         39.000000    3580.000000      4.200000   \n",
       "75%           1842.000000         58.000000    4283.000000      4.400000   \n",
       "max          38262.000000         77.000000    5775.000000      4.800000   \n",
       "\n",
       "       Job Placement rating  \n",
       "count             77.000000  \n",
       "mean               3.822078  \n",
       "std                0.744387  \n",
       "min                2.000000  \n",
       "25%                3.400000  \n",
       "50%                4.000000  \n",
       "75%                4.400000  \n",
       "max                5.000000  "
      ]
     },
     "execution_count": 6,
     "metadata": {},
     "output_type": "execute_result"
    }
   ],
   "source": [
    "df.describe()"
   ]
  },
  {
   "cell_type": "markdown",
   "metadata": {},
   "source": []
  },
  {
   "cell_type": "code",
   "execution_count": null,
   "metadata": {},
   "outputs": [],
   "source": []
  }
 ],
 "metadata": {
  "kernelspec": {
   "display_name": "eda_env",
   "language": "python",
   "name": "python3"
  },
  "language_info": {
   "codemirror_mode": {
    "name": "ipython",
    "version": 3
   },
   "file_extension": ".py",
   "mimetype": "text/x-python",
   "name": "python",
   "nbconvert_exporter": "python",
   "pygments_lexer": "ipython3",
   "version": "3.11.7"
  }
 },
 "nbformat": 4,
 "nbformat_minor": 2
}
